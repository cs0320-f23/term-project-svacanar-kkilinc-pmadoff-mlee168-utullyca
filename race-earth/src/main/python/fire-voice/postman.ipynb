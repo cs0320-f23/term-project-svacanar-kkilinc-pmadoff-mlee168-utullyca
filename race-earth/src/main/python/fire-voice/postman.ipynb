{
 "cells": [
  {
   "cell_type": "code",
   "execution_count": 8,
   "metadata": {},
   "outputs": [
    {
     "name": "stdout",
     "output_type": "stream",
     "text": [
      "POST request successful\n",
      "{\n",
      "  \"Call_ID\": \"0176\",\n",
      "  \"Coordinate_Type\": \"GPS\",\n",
      "  \"Coordinates\": [\n",
      "    [\n",
      "      32.8304,\n",
      "      -116.5116\n",
      "    ]\n",
      "  ],\n",
      "  \"Incident_ID\": \"WFA_003\",\n",
      "  \"Incident_Report\": \"Wildfire located northeast of Pine Valley along Sunrise National Scenic Byway, also known as Highway S1\",\n",
      "  \"Severity_Rating\": \"Not specified\",\n",
      "  \"date\": \"2023-12-20T05:58:27Z\"\n",
      "}\n",
      "\n"
     ]
    }
   ],
   "source": [
    "import requests\n",
    "\n",
    "# Define the URL of your local server\n",
    "url = \"http://localhost:5007/process\"\n",
    "\n",
    "# Define the JSON data you want to send in the request body\n",
    "# data = {\n",
    "#     \"message\": \"Multiple reports of a fast-moving wildfire approaching the outskirts of Pine Valley. Immediate assistance required.\",\n",
    "\n",
    "# }\n",
    "\n",
    "data = {\n",
    "    \"message\": \"Fire Engines there is a fire. Please proceed to the marked area located northeast of Pine Valley, along the Sunrise National Scenic Byway, also known as Highway S1. The location is slightly northwest of the point where the Scenic Byway intersects with Old Highway 80. It is situated in a remote area that appears to be within a short radius north of the Cottonwood Falls area and southeast of Arrowhead Mountain. Make sure to prepare for potentially limited access and rough terrain, as it's away from dense residential zones. The exact coordinates for the red pin will be provided for precise navigation and approach.\"\n",
    "}\n",
    "\n",
    "\n",
    "# Send the POST request\n",
    "response = requests.post(url, json=data)\n",
    "\n",
    "# Check the response from the server\n",
    "if response.status_code == 200:\n",
    "    print(\"POST request successful\")\n",
    "    print(response.text)\n",
    "\n",
    "else:\n",
    "    print(f\"POST request failed with status code {response.status_code}\")\n",
    "    print(response.text)\n"
   ]
  }
 ],
 "metadata": {
  "kernelspec": {
   "display_name": "fv-env-proto",
   "language": "python",
   "name": "python3"
  },
  "language_info": {
   "codemirror_mode": {
    "name": "ipython",
    "version": 3
   },
   "file_extension": ".py",
   "mimetype": "text/x-python",
   "name": "python",
   "nbconvert_exporter": "python",
   "pygments_lexer": "ipython3",
   "version": "3.10.12"
  }
 },
 "nbformat": 4,
 "nbformat_minor": 2
}
